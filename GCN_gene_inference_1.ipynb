{
 "cells": [
  {
   "cell_type": "code",
   "execution_count": 1,
   "metadata": {},
   "outputs": [],
   "source": [
    "import numpy as np\n",
    "import matplotlib.pyplot as plt\n",
    "import torch\n",
    "import torch.nn.functional as F\n",
    "import csv\n",
    "import copy\n",
    "from torch import nn\n",
    "from torch_geometric.data import Data\n",
    "from torch_geometric.nn import GCNConv, global_mean_pool"
   ]
  },
  {
   "cell_type": "markdown",
   "metadata": {},
   "source": [
    "## Load data"
   ]
  },
  {
   "cell_type": "code",
   "execution_count": 2,
   "metadata": {},
   "outputs": [],
   "source": [
    "gene_name = np.loadtxt('gene_name.txt', dtype=str)\n",
    "gene_edge = np.loadtxt('gene_edge.txt', dtype=str)"
   ]
  },
  {
   "cell_type": "code",
   "execution_count": 3,
   "metadata": {},
   "outputs": [],
   "source": [
    "# create mapping table from genes to nodes number\n",
    "node_map = {}\n",
    "for i, j in enumerate(gene_name): \n",
    "    node_map.update({j:i})"
   ]
  },
  {
   "cell_type": "code",
   "execution_count": null,
   "metadata": {},
   "outputs": [],
   "source": [
    "edge_list = []\n",
    "for k, i in enumerate(gene_edge): \n",
    "    \n",
    "    letter_count = 0\n",
    "    while i[letter_count] is not '|': \n",
    "        letter_count += 1\n",
    "        \n",
    "    first_gene = i[:letter_count]\n",
    "    second_gene = i[letter_count+1:]\n",
    "    \n",
    "    try: \n",
    "        node_map[first_gene]\n",
    "        node_map[second_gene]\n",
    "        edge_list.append([node_map[first_gene], node_map[second_gene]])\n",
    "        edge_list.append([node_map[second_gene], node_map[first_gene]])\n",
    "    except: \n",
    "        print('could not fine gene name at %dth line of gene edge' %k)"
   ]
  },
  {
   "cell_type": "code",
   "execution_count": 5,
   "metadata": {},
   "outputs": [
    {
     "data": {
      "text/plain": [
       "1423"
      ]
     },
     "execution_count": 5,
     "metadata": {},
     "output_type": "execute_result"
    }
   ],
   "source": [
    "node_map['Gusb']"
   ]
  },
  {
   "cell_type": "code",
   "execution_count": 6,
   "metadata": {},
   "outputs": [],
   "source": [
    "edge_list = torch.tensor(np.array(edge_list).T, dtype=torch.long)"
   ]
  },
  {
   "cell_type": "code",
   "execution_count": 7,
   "metadata": {},
   "outputs": [
    {
     "data": {
      "text/plain": [
       "torch.Size([2, 492746])"
      ]
     },
     "execution_count": 7,
     "metadata": {},
     "output_type": "execute_result"
    }
   ],
   "source": [
    "edge_list.size()"
   ]
  },
  {
   "cell_type": "code",
   "execution_count": 8,
   "metadata": {},
   "outputs": [],
   "source": [
    "# load training data\n",
    "train_loader = []\n",
    "with open('input_train_cat.csv') as csvfile: \n",
    "    reader = csv.reader(csvfile, quoting=csv.QUOTE_NONNUMERIC)\n",
    "    for row in reader: \n",
    "        \n",
    "        # index 1423 is Gusb gene\n",
    "        target_expression_level = torch.tensor(copy.copy(row[1423]), dtype=torch.float).view(1, 1)\n",
    "        row[1423] = 0\n",
    "        \n",
    "        # create graph\n",
    "        data = Data(x=torch.tensor(row, dtype=torch.float).view(1431, 1), \n",
    "                    y=target_expression_level, edge_index=edge_list)\n",
    "        train_loader.append(data)"
   ]
  },
  {
   "cell_type": "code",
   "execution_count": 9,
   "metadata": {},
   "outputs": [],
   "source": [
    "from torch_geometric.data import Batch"
   ]
  },
  {
   "cell_type": "code",
   "execution_count": 11,
   "metadata": {},
   "outputs": [],
   "source": [
    "# load validation data\n",
    "validate_loader = []\n",
    "with open('input_test_cat.csv') as csvfile: \n",
    "    reader = csv.reader(csvfile, quoting=csv.QUOTE_NONNUMERIC)\n",
    "    for row in reader: \n",
    "        \n",
    "        # index 1423 is Gusb gene\n",
    "        target_expression_level = torch.tensor(copy.copy(row[1423]), dtype=torch.float).view(1, 1)\n",
    "        row[1423] = 0\n",
    "        \n",
    "        # create graph\n",
    "        data = Data(x=torch.tensor(row, dtype=torch.float).view(1431, 1), \n",
    "                    y=target_expression_level, edge_index=edge_list)\n",
    "        validate_loader.append(data)"
   ]
  },
  {
   "cell_type": "code",
   "execution_count": 12,
   "metadata": {},
   "outputs": [
    {
     "name": "stdout",
     "output_type": "stream",
     "text": [
      "18542\n",
      "4636\n"
     ]
    }
   ],
   "source": [
    "print(len(train_loader))\n",
    "print(len(validate_loader))"
   ]
  },
  {
   "cell_type": "code",
   "execution_count": 13,
   "metadata": {},
   "outputs": [
    {
     "name": "stdout",
     "output_type": "stream",
     "text": [
      "torch.Size([1431, 1])\n",
      "torch.Size([1, 1])\n",
      "torch.Size([2, 492746])\n"
     ]
    }
   ],
   "source": [
    "print(train_loader[0].x.size())\n",
    "print(train_loader[0].y.size())\n",
    "print(train_loader[0].edge_index.size())"
   ]
  },
  {
   "cell_type": "markdown",
   "metadata": {},
   "source": [
    "## Define GCN"
   ]
  },
  {
   "cell_type": "code",
   "execution_count": 10,
   "metadata": {},
   "outputs": [],
   "source": [
    "class GCNInferenceNetwork(nn.Module): \n",
    "    def __init__(self, d=1): \n",
    "        super(GCNInferenceNetwork, self).__init__()\n",
    "        self.conv1 = GCNConv(d, 16)\n",
    "        self.conv2 = GCNConv(16, 16)\n",
    "        self.fc    = nn.Linear(16, 1)\n",
    "    \n",
    "    def forward(self, graph): \n",
    "        x, edges, y = graph.x, graph.edge_index, graph.y\n",
    "        \n",
    "        x = self.conv1(x, edges)\n",
    "        x = F.relu(x)\n",
    "        x = self.conv2(x, edges)\n",
    "        x = F.relu(x)\n",
    "        # x = global_mean_pool(x, torch.zeros(graph.num_nodes, dtype=torch.long))\n",
    "        x = global_mean_pool(x, graph.batch)\n",
    "        \n",
    "        x = self.fc(x)\n",
    "        \n",
    "        return x"
   ]
  },
  {
   "cell_type": "code",
   "execution_count": 101,
   "metadata": {},
   "outputs": [
    {
     "name": "stdout",
     "output_type": "stream",
     "text": [
      "torch.Size([1, 32])\n",
      "torch.Size([32])\n",
      "torch.Size([32, 32])\n",
      "torch.Size([32])\n",
      "torch.Size([1, 32])\n",
      "torch.Size([1])\n"
     ]
    }
   ],
   "source": [
    "for parameter in model.parameters():\n",
    "    print(parameter.size())"
   ]
  },
  {
   "cell_type": "markdown",
   "metadata": {},
   "source": [
    "## Train GCN"
   ]
  },
  {
   "cell_type": "code",
   "execution_count": 11,
   "metadata": {},
   "outputs": [],
   "source": [
    "batch_size = 32\n",
    "def train(model, train_loader): \n",
    "    model.train()\n",
    "    optimizer = torch.optim.SGD(model.parameters(), lr=1e-5)\n",
    "    loss_fn = nn.MSELoss()\n",
    "    loss_all = 0\n",
    "    \n",
    "    def new_fun(): \n",
    "        sample_ids = np.random.randint(len(train_loader), size=batch_size)\n",
    "        batch_1 = [train_loader[j].to(torch.device('cuda')) for j in sample_ids]\n",
    "        batch = Batch.from_data_list(batch_1).to(torch.device('cuda'))\n",
    "        x, edges, y = batch.x, batch.edge_index, batch.y\n",
    "        pred_ = model(batch)\n",
    "        loss = loss_fn(pred_, y)\n",
    "\n",
    "        optimizer.zero_grad()\n",
    "        loss.backward()\n",
    "        optimizer.step()\n",
    "\n",
    "        del pred_\n",
    "        del batch\n",
    "        for exp in batch_1:\n",
    "            del exp\n",
    "        del batch_1\n",
    "        del x\n",
    "        del edges\n",
    "        del y\n",
    "        \n",
    "        return loss.item()\n",
    "\n",
    "        if i%2 == 0: \n",
    "            print('%d batches trained' %i)\n",
    "    \n",
    "    for i in range(len(train_loader) // batch_size):\n",
    "        loss_all += new_fun()\n",
    "    \n",
    "    return loss_all / len(train_loader)"
   ]
  },
  {
   "cell_type": "code",
   "execution_count": 16,
   "metadata": {},
   "outputs": [],
   "source": [
    "def validate(model, validate_loader): \n",
    "    model.evaluate()\n",
    "    loss_fn = nn.MSELoss()\n",
    "    loss_all = 0\n",
    "    \n",
    "    for data in validate_loader: \n",
    "        x, edges, y = data.x, data.edge_index, data.y\n",
    "        pred_ = model(data)\n",
    "        loss = loss_fn(pred_, y)\n",
    "        loss_all += loss.item()\n",
    "    \n",
    "    return loss_all / len(validate_loader)"
   ]
  },
  {
   "cell_type": "code",
   "execution_count": null,
   "metadata": {},
   "outputs": [],
   "source": [
    "model = GCNInferenceNetwork().to(torch.device('cuda'))\n",
    "\n",
    "epoches = 1\n",
    "for i in range(epoches): \n",
    "    train_loss = train(model, train_loader)\n",
    "    # val_loss = validate(model, validate_loader)\n",
    "    # print ('epoches: %d || train_losses: %f || val_loss: %f' %(i, train_loss, val_loss))\n",
    "    print ('epoches: %d || train_losses: %f' %(i, train_loss))"
   ]
  }
 ],
 "metadata": {
  "kernelspec": {
   "display_name": "Python 3",
   "language": "python",
   "name": "python3"
  },
  "language_info": {
   "codemirror_mode": {
    "name": "ipython",
    "version": 3
   },
   "file_extension": ".py",
   "mimetype": "text/x-python",
   "name": "python",
   "nbconvert_exporter": "python",
   "pygments_lexer": "ipython3",
   "version": "3.7.3"
  }
 },
 "nbformat": 4,
 "nbformat_minor": 4
}
