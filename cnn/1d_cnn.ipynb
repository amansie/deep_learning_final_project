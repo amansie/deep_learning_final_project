{
 "cells": [
  {
   "cell_type": "markdown",
   "metadata": {},
   "source": [
    "# Load data"
   ]
  },
  {
   "cell_type": "code",
   "execution_count": 1,
   "metadata": {},
   "outputs": [],
   "source": [
    "import numpy as np\n",
    "import pandas as pd\n",
    "from sklearn.decomposition import PCA\n",
    "from sklearn.preprocessing import StandardScaler\n",
    "from tensorflow.keras.models import Sequential, Model\n",
    "from tensorflow.keras.layers import Conv1D, MaxPooling1D, Flatten, Dense, Dropout\n",
    "from tensorflow.keras.callbacks import EarlyStopping\n",
    "from tensorflow.keras.applications import VGG16\n",
    "import csv"
   ]
  },
  {
   "cell_type": "code",
   "execution_count": 2,
   "metadata": {},
   "outputs": [],
   "source": [
    "# filenames\n",
    "HOME = '/home/jupyter-dylan/'\n",
    "\n",
    "INPUT_TRAIN = '{}input_train.csv'.format(HOME)\n",
    "INPUT_TEST = '{}input_test.csv'.format(HOME)\n",
    "OUTPUT_TRAIN = '{}output_train-1.csv'.format(HOME)\n",
    "OUTPUT_TEST= '{}output_test-1.csv'.format(HOME)\n",
    "OUTPUT_GENES = '{}gene labels/output_genes-1.txt'.format(HOME)"
   ]
  },
  {
   "cell_type": "code",
   "execution_count": 3,
   "metadata": {},
   "outputs": [],
   "source": [
    "# load data into dataframes\n",
    "train_input = pd.read_csv(INPUT_TRAIN, header=0, index_col=0)\n",
    "train_output = pd.read_csv(OUTPUT_TRAIN, header=0, index_col=0)\n",
    "test_input = pd.read_csv(INPUT_TEST, header=0, index_col=0)\n",
    "test_output = pd.read_csv(OUTPUT_TEST, header=0, index_col=0)"
   ]
  },
  {
   "cell_type": "markdown",
   "metadata": {},
   "source": [
    "# PCA on transcription factors"
   ]
  },
  {
   "cell_type": "markdown",
   "metadata": {},
   "source": [
    "## Input feature design"
   ]
  },
  {
   "cell_type": "code",
   "execution_count": 4,
   "metadata": {},
   "outputs": [],
   "source": [
    "# use 1st component to order inputs\n",
    "pca_tf = PCA(n_components=1)\n",
    "train_input_pca_tf = pca_tf.fit_transform(train_input.transpose().to_numpy())\n",
    "pca_tf_order = train_input_pca_tf.reshape(-1).argsort()\n",
    "pca_tf_col_names = train_input.columns[pca_tf_order]\n",
    "train_input_pca_tf = train_input[pca_tf_col_names]\n",
    "test_input_pca_tf = test_input[pca_tf_col_names]"
   ]
  },
  {
   "cell_type": "code",
   "execution_count": 5,
   "metadata": {},
   "outputs": [],
   "source": [
    "# center inputs to mean 0 and scale to variance 1\n",
    "scaler = StandardScaler()\n",
    "train_input_pca_tf = scaler.fit_transform(train_input_pca_tf)\n",
    "test_input_pca_tf = scaler.transform(test_input_pca_tf)"
   ]
  },
  {
   "cell_type": "markdown",
   "metadata": {},
   "source": [
    "## 1D ConvNet"
   ]
  },
  {
   "cell_type": "code",
   "execution_count": 18,
   "metadata": {},
   "outputs": [
    {
     "name": "stdout",
     "output_type": "stream",
     "text": [
      "App\n",
      "Train on 14833 samples, validate on 3709 samples\n",
      "Epoch 1/50\n",
      "14833/14833 [==============================] - 8s 550us/sample - loss: 5.8638e-04 - mse: 5.8638e-04 - mae: 0.0021 - val_loss: 5.7827e-07 - val_mse: 5.7827e-07 - val_mae: 6.3471e-04\n",
      "Epoch 2/50\n",
      "14833/14833 [==============================] - 7s 500us/sample - loss: 1.1219e-06 - mse: 1.1219e-06 - mae: 9.4331e-04 - val_loss: 5.7827e-07 - val_mse: 5.7827e-07 - val_mae: 6.3471e-04\n",
      "Epoch 3/50\n",
      "14833/14833 [==============================] - 7s 502us/sample - loss: 1.1219e-06 - mse: 1.1219e-06 - mae: 9.4331e-04 - val_loss: 5.7827e-07 - val_mse: 5.7827e-07 - val_mae: 6.3471e-04\n",
      "Epoch 4/50\n",
      "14833/14833 [==============================] - 7s 501us/sample - loss: 1.1219e-06 - mse: 1.1219e-06 - mae: 9.4331e-04 - val_loss: 5.7827e-07 - val_mse: 5.7827e-07 - val_mae: 6.3471e-04\n",
      "Epoch 5/50\n",
      "14833/14833 [==============================] - 7s 500us/sample - loss: 1.1219e-06 - mse: 1.1219e-06 - mae: 9.4331e-04 - val_loss: 5.7827e-07 - val_mse: 5.7827e-07 - val_mae: 6.3471e-04\n",
      "Epoch 6/50\n",
      "14833/14833 [==============================] - 7s 501us/sample - loss: 1.1219e-06 - mse: 1.1219e-06 - mae: 9.4331e-04 - val_loss: 5.7827e-07 - val_mse: 5.7827e-07 - val_mae: 6.3471e-04\n",
      "4636/4636 [==============================] - 1s 191us/sample - loss: 1.0460e-06 - mse: 1.0460e-06 - mae: 8.8884e-04\n",
      "Apoe\n",
      "Train on 14833 samples, validate on 3709 samples\n",
      "Epoch 1/50\n",
      "14833/14833 [==============================] - 8s 549us/sample - loss: 5.3763e-04 - mse: 5.3763e-04 - mae: 0.0014 - val_loss: 1.9190e-05 - val_mse: 1.9190e-05 - val_mae: 0.0013\n",
      "Epoch 2/50\n",
      "14833/14833 [==============================] - 7s 504us/sample - loss: 6.6004e-06 - mse: 6.6004e-06 - mae: 2.9893e-04 - val_loss: 1.9190e-05 - val_mse: 1.9190e-05 - val_mae: 0.0013\n",
      "Epoch 3/50\n",
      "14833/14833 [==============================] - 7s 499us/sample - loss: 6.6004e-06 - mse: 6.6004e-06 - mae: 2.9893e-04 - val_loss: 1.9190e-05 - val_mse: 1.9190e-05 - val_mae: 0.0013\n",
      "Epoch 4/50\n",
      "14833/14833 [==============================] - 7s 500us/sample - loss: 6.6004e-06 - mse: 6.6004e-06 - mae: 2.9893e-04 - val_loss: 1.9190e-05 - val_mse: 1.9190e-05 - val_mae: 0.0013\n",
      "Epoch 5/50\n",
      "14833/14833 [==============================] - 7s 500us/sample - loss: 6.6004e-06 - mse: 6.6004e-06 - mae: 2.9893e-04 - val_loss: 1.9190e-05 - val_mse: 1.9190e-05 - val_mae: 0.0013\n",
      "Epoch 6/50\n",
      "14833/14833 [==============================] - 7s 500us/sample - loss: 6.6004e-06 - mse: 6.6004e-06 - mae: 2.9893e-04 - val_loss: 1.9190e-05 - val_mse: 1.9190e-05 - val_mae: 0.0013\n",
      "4636/4636 [==============================] - 1s 189us/sample - loss: 8.9295e-06 - mse: 8.9295e-06 - mae: 5.1762e-04\n",
      "Gusb\n",
      "Train on 14833 samples, validate on 3709 samples\n",
      "Epoch 1/50\n",
      "14833/14833 [==============================] - 8s 558us/sample - loss: 5.9809e-04 - mse: 5.9809e-04 - mae: 0.0012 - val_loss: 9.2456e-09 - val_mse: 9.2456e-09 - val_mae: 3.2740e-05\n",
      "Epoch 2/50\n",
      "14833/14833 [==============================] - 7s 502us/sample - loss: 2.7814e-09 - mse: 2.7814e-09 - mae: 2.5378e-05 - val_loss: 9.2456e-09 - val_mse: 9.2456e-09 - val_mae: 3.2740e-05\n",
      "Epoch 3/50\n",
      "14833/14833 [==============================] - 7s 500us/sample - loss: 2.7814e-09 - mse: 2.7814e-09 - mae: 2.5378e-05 - val_loss: 9.2456e-09 - val_mse: 9.2456e-09 - val_mae: 3.2740e-05\n",
      "Epoch 4/50\n",
      "14833/14833 [==============================] - 7s 503us/sample - loss: 2.7814e-09 - mse: 2.7814e-09 - mae: 2.5378e-05 - val_loss: 9.2456e-09 - val_mse: 9.2456e-09 - val_mae: 3.2740e-05\n",
      "Epoch 5/50\n",
      "14833/14833 [==============================] - 7s 501us/sample - loss: 2.7814e-09 - mse: 2.7814e-09 - mae: 2.5378e-05 - val_loss: 9.2456e-09 - val_mse: 9.2456e-09 - val_mae: 3.2740e-05\n",
      "Epoch 6/50\n",
      "14833/14833 [==============================] - 7s 503us/sample - loss: 2.7814e-09 - mse: 2.7814e-09 - mae: 2.5378e-05 - val_loss: 9.2456e-09 - val_mse: 9.2456e-09 - val_mae: 3.2740e-05\n",
      "4636/4636 [==============================] - 1s 191us/sample - loss: 3.8713e-09 - mse: 3.8713e-09 - mae: 2.6985e-05\n",
      "Lamp5\n",
      "Train on 14833 samples, validate on 3709 samples\n",
      "Epoch 1/50\n",
      "14833/14833 [==============================] - 8s 543us/sample - loss: 5.2136e-04 - mse: 5.2136e-04 - mae: 0.0014 - val_loss: 6.2757e-07 - val_mse: 6.2757e-07 - val_mae: 3.3882e-04\n",
      "Epoch 2/50\n",
      "14833/14833 [==============================] - 7s 501us/sample - loss: 6.4882e-07 - mse: 6.4882e-07 - mae: 3.8747e-04 - val_loss: 6.2757e-07 - val_mse: 6.2757e-07 - val_mae: 3.3882e-04\n",
      "Epoch 3/50\n",
      "14833/14833 [==============================] - 7s 500us/sample - loss: 6.4882e-07 - mse: 6.4882e-07 - mae: 3.8747e-04 - val_loss: 6.2757e-07 - val_mse: 6.2757e-07 - val_mae: 3.3882e-04\n",
      "Epoch 4/50\n",
      "14833/14833 [==============================] - 7s 502us/sample - loss: 6.4882e-07 - mse: 6.4882e-07 - mae: 3.8747e-04 - val_loss: 6.2757e-07 - val_mse: 6.2757e-07 - val_mae: 3.3882e-04\n",
      "Epoch 5/50\n",
      "14833/14833 [==============================] - 7s 500us/sample - loss: 6.4882e-07 - mse: 6.4882e-07 - mae: 3.8747e-04 - val_loss: 6.2757e-07 - val_mse: 6.2757e-07 - val_mae: 3.3882e-04\n",
      "Epoch 6/50\n",
      "14833/14833 [==============================] - 7s 502us/sample - loss: 6.4882e-07 - mse: 6.4882e-07 - mae: 3.8747e-04 - val_loss: 6.2757e-07 - val_mse: 6.2757e-07 - val_mae: 3.3882e-04\n",
      "4636/4636 [==============================] - 1s 192us/sample - loss: 6.3459e-07 - mse: 6.3459e-07 - mae: 3.7624e-04\n",
      "Mbp\n",
      "Train on 14833 samples, validate on 3709 samples\n",
      "Epoch 1/50\n",
      "14833/14833 [==============================] - 8s 541us/sample - loss: 4.9097e-04 - mse: 4.9097e-04 - mae: 0.0011 - val_loss: 1.3399e-06 - val_mse: 1.3399e-06 - val_mae: 1.9974e-04\n",
      "Epoch 2/50\n",
      "14833/14833 [==============================] - 7s 502us/sample - loss: 4.5144e-07 - mse: 4.5144e-07 - mae: 9.0375e-05 - val_loss: 1.3399e-06 - val_mse: 1.3399e-06 - val_mae: 1.9974e-04\n",
      "Epoch 3/50\n",
      "14833/14833 [==============================] - 7s 502us/sample - loss: 4.5144e-07 - mse: 4.5144e-07 - mae: 9.0375e-05 - val_loss: 1.3399e-06 - val_mse: 1.3399e-06 - val_mae: 1.9974e-04\n",
      "Epoch 4/50\n",
      "14833/14833 [==============================] - 7s 502us/sample - loss: 4.5144e-07 - mse: 4.5144e-07 - mae: 9.0375e-05 - val_loss: 1.3399e-06 - val_mse: 1.3399e-06 - val_mae: 1.9974e-04\n",
      "Epoch 5/50\n",
      "14833/14833 [==============================] - 7s 502us/sample - loss: 4.5144e-07 - mse: 4.5144e-07 - mae: 9.0375e-05 - val_loss: 1.3399e-06 - val_mse: 1.3399e-06 - val_mae: 1.9974e-04\n",
      "Epoch 6/50\n",
      "14833/14833 [==============================] - 7s 503us/sample - loss: 4.5144e-07 - mse: 4.5144e-07 - mae: 9.0375e-05 - val_loss: 1.3399e-06 - val_mse: 1.3399e-06 - val_mae: 1.9974e-04\n",
      "4636/4636 [==============================] - 1s 187us/sample - loss: 5.8399e-07 - mse: 5.8399e-07 - mae: 1.0383e-04\n",
      "Pvalb\n",
      "Train on 14833 samples, validate on 3709 samples\n",
      "Epoch 1/50\n",
      "14833/14833 [==============================] - 8s 554us/sample - loss: 5.1680e-04 - mse: 5.1680e-04 - mae: 0.0012 - val_loss: 4.3674e-07 - val_mse: 4.3674e-07 - val_mae: 1.9856e-04\n",
      "Epoch 2/50\n",
      "14833/14833 [==============================] - 8s 512us/sample - loss: 1.5307e-07 - mse: 1.5307e-07 - mae: 9.8190e-05 - val_loss: 4.3674e-07 - val_mse: 4.3674e-07 - val_mae: 1.9856e-04\n",
      "Epoch 3/50\n",
      "14833/14833 [==============================] - 7s 499us/sample - loss: 1.5307e-07 - mse: 1.5307e-07 - mae: 9.8190e-05 - val_loss: 4.3674e-07 - val_mse: 4.3674e-07 - val_mae: 1.9856e-04\n",
      "Epoch 4/50\n",
      "14833/14833 [==============================] - 7s 502us/sample - loss: 1.5307e-07 - mse: 1.5307e-07 - mae: 9.8190e-05 - val_loss: 4.3674e-07 - val_mse: 4.3674e-07 - val_mae: 1.9856e-04\n",
      "Epoch 5/50\n",
      "14833/14833 [==============================] - 7s 501us/sample - loss: 1.5307e-07 - mse: 1.5307e-07 - mae: 9.8190e-05 - val_loss: 4.3674e-07 - val_mse: 4.3674e-07 - val_mae: 1.9856e-04\n",
      "Epoch 6/50\n",
      "14833/14833 [==============================] - 7s 502us/sample - loss: 1.5307e-07 - mse: 1.5307e-07 - mae: 9.8190e-05 - val_loss: 4.3674e-07 - val_mse: 4.3674e-07 - val_mae: 1.9856e-04\n",
      "4636/4636 [==============================] - 1s 191us/sample - loss: 2.0924e-07 - mse: 2.0924e-07 - mae: 1.1703e-04\n",
      "Rorb\n",
      "Train on 14833 samples, validate on 3709 samples\n",
      "Epoch 1/50\n",
      "14833/14833 [==============================] - 8s 544us/sample - loss: 5.2937e-04 - mse: 5.2937e-04 - mae: 0.0011 - val_loss: 1.4785e-08 - val_mse: 1.4785e-08 - val_mae: 3.2022e-05\n",
      "Epoch 2/50\n",
      "14833/14833 [==============================] - 7s 500us/sample - loss: 1.6328e-08 - mse: 1.6328e-08 - mae: 4.5402e-05 - val_loss: 1.4785e-08 - val_mse: 1.4785e-08 - val_mae: 3.2022e-05\n",
      "Epoch 3/50\n",
      "14833/14833 [==============================] - 7s 503us/sample - loss: 1.6328e-08 - mse: 1.6328e-08 - mae: 4.5402e-05 - val_loss: 1.4785e-08 - val_mse: 1.4785e-08 - val_mae: 3.2022e-05\n",
      "Epoch 4/50\n",
      "14833/14833 [==============================] - 7s 501us/sample - loss: 1.6328e-08 - mse: 1.6328e-08 - mae: 4.5402e-05 - val_loss: 1.4785e-08 - val_mse: 1.4785e-08 - val_mae: 3.2022e-05\n",
      "Epoch 5/50\n",
      "14833/14833 [==============================] - 7s 501us/sample - loss: 1.6328e-08 - mse: 1.6328e-08 - mae: 4.5402e-05 - val_loss: 1.4785e-08 - val_mse: 1.4785e-08 - val_mae: 3.2022e-05\n",
      "Epoch 6/50\n",
      "14833/14833 [==============================] - 7s 501us/sample - loss: 1.6328e-08 - mse: 1.6328e-08 - mae: 4.5402e-05 - val_loss: 1.4785e-08 - val_mse: 1.4785e-08 - val_mae: 3.2022e-05\n",
      "4636/4636 [==============================] - 1s 186us/sample - loss: 1.4228e-08 - mse: 1.4228e-08 - mae: 4.1763e-05\n",
      "S100b\n",
      "Train on 14833 samples, validate on 3709 samples\n",
      "Epoch 1/50\n",
      "14833/14833 [==============================] - 8s 542us/sample - loss: 5.9485e-04 - mse: 5.9485e-04 - mae: 0.0012 - val_loss: 6.4028e-08 - val_mse: 6.4028e-08 - val_mae: 9.1625e-05\n",
      "Epoch 2/50\n",
      "14833/14833 [==============================] - 7s 499us/sample - loss: 7.7001e-09 - mse: 7.7001e-09 - mae: 2.1723e-05 - val_loss: 6.4028e-08 - val_mse: 6.4028e-08 - val_mae: 9.1625e-05\n",
      "Epoch 3/50\n",
      "14833/14833 [==============================] - 7s 499us/sample - loss: 7.7001e-09 - mse: 7.7001e-09 - mae: 2.1723e-05 - val_loss: 6.4028e-08 - val_mse: 6.4028e-08 - val_mae: 9.1625e-05\n",
      "Epoch 4/50\n",
      "14833/14833 [==============================] - 7s 499us/sample - loss: 7.7001e-09 - mse: 7.7001e-09 - mae: 2.1723e-05 - val_loss: 6.4028e-08 - val_mse: 6.4028e-08 - val_mae: 9.1625e-05\n",
      "Epoch 5/50\n",
      "14833/14833 [==============================] - 8s 516us/sample - loss: 7.7001e-09 - mse: 7.7001e-09 - mae: 2.1723e-05 - val_loss: 6.4028e-08 - val_mse: 6.4028e-08 - val_mae: 9.1625e-05\n",
      "Epoch 6/50\n",
      "14833/14833 [==============================] - 7s 500us/sample - loss: 7.7001e-09 - mse: 7.7001e-09 - mae: 2.1723e-05 - val_loss: 6.4028e-08 - val_mse: 6.4028e-08 - val_mae: 9.1625e-05\n",
      "4636/4636 [==============================] - 1s 191us/sample - loss: 1.8221e-08 - mse: 1.8221e-08 - mae: 3.5877e-05\n",
      "Slc30a3\n",
      "Train on 14833 samples, validate on 3709 samples\n",
      "Epoch 1/50\n",
      "14833/14833 [==============================] - 8s 558us/sample - loss: 5.4441e-04 - mse: 5.4441e-04 - mae: 0.0012 - val_loss: 1.0908e-08 - val_mse: 1.0908e-08 - val_mae: 5.4602e-05\n",
      "Epoch 2/50\n",
      "14833/14833 [==============================] - 7s 501us/sample - loss: 2.1412e-08 - mse: 2.1412e-08 - mae: 9.5790e-05 - val_loss: 1.0908e-08 - val_mse: 1.0908e-08 - val_mae: 5.4602e-05\n",
      "Epoch 3/50\n",
      "14833/14833 [==============================] - 7s 500us/sample - loss: 2.1412e-08 - mse: 2.1412e-08 - mae: 9.5790e-05 - val_loss: 1.0908e-08 - val_mse: 1.0908e-08 - val_mae: 5.4602e-05\n",
      "Epoch 4/50\n",
      "14833/14833 [==============================] - 7s 503us/sample - loss: 2.1412e-08 - mse: 2.1412e-08 - mae: 9.5790e-05 - val_loss: 1.0908e-08 - val_mse: 1.0908e-08 - val_mae: 5.4602e-05\n",
      "Epoch 5/50\n",
      "14833/14833 [==============================] - 7s 503us/sample - loss: 2.1412e-08 - mse: 2.1412e-08 - mae: 9.5790e-05 - val_loss: 1.0908e-08 - val_mse: 1.0908e-08 - val_mae: 5.4602e-05\n",
      "Epoch 6/50\n",
      "14833/14833 [==============================] - 7s 504us/sample - loss: 2.1412e-08 - mse: 2.1412e-08 - mae: 9.5790e-05 - val_loss: 1.0908e-08 - val_mse: 1.0908e-08 - val_mae: 5.4602e-05\n",
      "4636/4636 [==============================] - 1s 193us/sample - loss: 2.0113e-08 - mse: 2.0113e-08 - mae: 8.8273e-05\n",
      "Snca\n",
      "Train on 14833 samples, validate on 3709 samples\n",
      "Epoch 1/50\n",
      "14833/14833 [==============================] - 8s 544us/sample - loss: 6.1472e-04 - mse: 6.1472e-04 - mae: 0.0022 - val_loss: 1.4741e-06 - val_mse: 1.4741e-06 - val_mae: 8.3665e-04\n",
      "Epoch 2/50\n",
      "14833/14833 [==============================] - 7s 503us/sample - loss: 1.9383e-06 - mse: 1.9383e-06 - mae: 0.0011 - val_loss: 1.4741e-06 - val_mse: 1.4741e-06 - val_mae: 8.3665e-04\n",
      "Epoch 3/50\n",
      "14833/14833 [==============================] - 7s 504us/sample - loss: 1.9383e-06 - mse: 1.9383e-06 - mae: 0.0011 - val_loss: 1.4741e-06 - val_mse: 1.4741e-06 - val_mae: 8.3665e-04\n",
      "Epoch 4/50\n",
      "14833/14833 [==============================] - 7s 502us/sample - loss: 1.9383e-06 - mse: 1.9383e-06 - mae: 0.0011 - val_loss: 1.4741e-06 - val_mse: 1.4741e-06 - val_mae: 8.3665e-04\n",
      "Epoch 5/50\n",
      "14833/14833 [==============================] - 7s 504us/sample - loss: 1.9383e-06 - mse: 1.9383e-06 - mae: 0.0011 - val_loss: 1.4741e-06 - val_mse: 1.4741e-06 - val_mae: 8.3665e-04\n",
      "Epoch 6/50\n",
      "14833/14833 [==============================] - 7s 502us/sample - loss: 1.9383e-06 - mse: 1.9383e-06 - mae: 0.0011 - val_loss: 1.4741e-06 - val_mse: 1.4741e-06 - val_mae: 8.3665e-04\n",
      "4636/4636 [==============================] - 1s 192us/sample - loss: 1.8245e-06 - mse: 1.8245e-06 - mae: 0.0010\n",
      "Map\n"
     ]
    },
    {
     "ename": "KeyError",
     "evalue": "'Map'",
     "output_type": "error",
     "traceback": [
      "\u001b[0;31m---------------------------------------------------------------------------\u001b[0m",
      "\u001b[0;31mKeyError\u001b[0m                                  Traceback (most recent call last)",
      "\u001b[0;32m/opt/tljh/user/lib/python3.7/site-packages/pandas/core/indexes/base.py\u001b[0m in \u001b[0;36mget_loc\u001b[0;34m(self, key, method, tolerance)\u001b[0m\n\u001b[1;32m   2645\u001b[0m             \u001b[0;32mtry\u001b[0m\u001b[0;34m:\u001b[0m\u001b[0;34m\u001b[0m\u001b[0;34m\u001b[0m\u001b[0m\n\u001b[0;32m-> 2646\u001b[0;31m                 \u001b[0;32mreturn\u001b[0m \u001b[0mself\u001b[0m\u001b[0;34m.\u001b[0m\u001b[0m_engine\u001b[0m\u001b[0;34m.\u001b[0m\u001b[0mget_loc\u001b[0m\u001b[0;34m(\u001b[0m\u001b[0mkey\u001b[0m\u001b[0;34m)\u001b[0m\u001b[0;34m\u001b[0m\u001b[0;34m\u001b[0m\u001b[0m\n\u001b[0m\u001b[1;32m   2647\u001b[0m             \u001b[0;32mexcept\u001b[0m \u001b[0mKeyError\u001b[0m\u001b[0;34m:\u001b[0m\u001b[0;34m\u001b[0m\u001b[0;34m\u001b[0m\u001b[0m\n",
      "\u001b[0;32mpandas/_libs/index.pyx\u001b[0m in \u001b[0;36mpandas._libs.index.IndexEngine.get_loc\u001b[0;34m()\u001b[0m\n",
      "\u001b[0;32mpandas/_libs/index.pyx\u001b[0m in \u001b[0;36mpandas._libs.index.IndexEngine.get_loc\u001b[0;34m()\u001b[0m\n",
      "\u001b[0;32mpandas/_libs/hashtable_class_helper.pxi\u001b[0m in \u001b[0;36mpandas._libs.hashtable.PyObjectHashTable.get_item\u001b[0;34m()\u001b[0m\n",
      "\u001b[0;32mpandas/_libs/hashtable_class_helper.pxi\u001b[0m in \u001b[0;36mpandas._libs.hashtable.PyObjectHashTable.get_item\u001b[0;34m()\u001b[0m\n",
      "\u001b[0;31mKeyError\u001b[0m: 'Map'",
      "\nDuring handling of the above exception, another exception occurred:\n",
      "\u001b[0;31mKeyError\u001b[0m                                  Traceback (most recent call last)",
      "\u001b[0;32m<ipython-input-18-d2a561def73b>\u001b[0m in \u001b[0;36m<module>\u001b[0;34m\u001b[0m\n\u001b[1;32m     20\u001b[0m     \u001b[0;31m# training\u001b[0m\u001b[0;34m\u001b[0m\u001b[0;34m\u001b[0m\u001b[0;34m\u001b[0m\u001b[0m\n\u001b[1;32m     21\u001b[0m     \u001b[0mearly_stop\u001b[0m \u001b[0;34m=\u001b[0m \u001b[0mEarlyStopping\u001b[0m\u001b[0;34m(\u001b[0m\u001b[0mmonitor\u001b[0m\u001b[0;34m=\u001b[0m\u001b[0;34m'val_loss'\u001b[0m\u001b[0;34m,\u001b[0m \u001b[0mpatience\u001b[0m\u001b[0;34m=\u001b[0m\u001b[0;36m5\u001b[0m\u001b[0;34m)\u001b[0m\u001b[0;34m\u001b[0m\u001b[0;34m\u001b[0m\u001b[0m\n\u001b[0;32m---> 22\u001b[0;31m     \u001b[0mmodel\u001b[0m\u001b[0;34m.\u001b[0m\u001b[0mfit\u001b[0m\u001b[0;34m(\u001b[0m\u001b[0mx\u001b[0m\u001b[0;34m=\u001b[0m\u001b[0mnp\u001b[0m\u001b[0;34m.\u001b[0m\u001b[0mexpand_dims\u001b[0m\u001b[0;34m(\u001b[0m\u001b[0mtrain_input_pca_tf\u001b[0m\u001b[0;34m,\u001b[0m \u001b[0maxis\u001b[0m\u001b[0;34m=\u001b[0m\u001b[0;36m2\u001b[0m\u001b[0;34m)\u001b[0m\u001b[0;34m,\u001b[0m \u001b[0my\u001b[0m\u001b[0;34m=\u001b[0m\u001b[0mtrain_output\u001b[0m\u001b[0;34m[\u001b[0m\u001b[0mgene\u001b[0m\u001b[0;34m]\u001b[0m\u001b[0;34m,\u001b[0m \u001b[0mepochs\u001b[0m\u001b[0;34m=\u001b[0m\u001b[0;36m50\u001b[0m\u001b[0;34m,\u001b[0m \u001b[0mcallbacks\u001b[0m\u001b[0;34m=\u001b[0m\u001b[0;34m[\u001b[0m\u001b[0mearly_stop\u001b[0m\u001b[0;34m]\u001b[0m\u001b[0;34m,\u001b[0m \u001b[0mvalidation_split\u001b[0m\u001b[0;34m=\u001b[0m\u001b[0;36m.2\u001b[0m\u001b[0;34m)\u001b[0m\u001b[0;34m\u001b[0m\u001b[0;34m\u001b[0m\u001b[0m\n\u001b[0m\u001b[1;32m     23\u001b[0m \u001b[0;34m\u001b[0m\u001b[0m\n\u001b[1;32m     24\u001b[0m     \u001b[0;31m# evaluation\u001b[0m\u001b[0;34m\u001b[0m\u001b[0;34m\u001b[0m\u001b[0;34m\u001b[0m\u001b[0m\n",
      "\u001b[0;32m/opt/tljh/user/lib/python3.7/site-packages/pandas/core/frame.py\u001b[0m in \u001b[0;36m__getitem__\u001b[0;34m(self, key)\u001b[0m\n\u001b[1;32m   2798\u001b[0m             \u001b[0;32mif\u001b[0m \u001b[0mself\u001b[0m\u001b[0;34m.\u001b[0m\u001b[0mcolumns\u001b[0m\u001b[0;34m.\u001b[0m\u001b[0mnlevels\u001b[0m \u001b[0;34m>\u001b[0m \u001b[0;36m1\u001b[0m\u001b[0;34m:\u001b[0m\u001b[0;34m\u001b[0m\u001b[0;34m\u001b[0m\u001b[0m\n\u001b[1;32m   2799\u001b[0m                 \u001b[0;32mreturn\u001b[0m \u001b[0mself\u001b[0m\u001b[0;34m.\u001b[0m\u001b[0m_getitem_multilevel\u001b[0m\u001b[0;34m(\u001b[0m\u001b[0mkey\u001b[0m\u001b[0;34m)\u001b[0m\u001b[0;34m\u001b[0m\u001b[0;34m\u001b[0m\u001b[0m\n\u001b[0;32m-> 2800\u001b[0;31m             \u001b[0mindexer\u001b[0m \u001b[0;34m=\u001b[0m \u001b[0mself\u001b[0m\u001b[0;34m.\u001b[0m\u001b[0mcolumns\u001b[0m\u001b[0;34m.\u001b[0m\u001b[0mget_loc\u001b[0m\u001b[0;34m(\u001b[0m\u001b[0mkey\u001b[0m\u001b[0;34m)\u001b[0m\u001b[0;34m\u001b[0m\u001b[0;34m\u001b[0m\u001b[0m\n\u001b[0m\u001b[1;32m   2801\u001b[0m             \u001b[0;32mif\u001b[0m \u001b[0mis_integer\u001b[0m\u001b[0;34m(\u001b[0m\u001b[0mindexer\u001b[0m\u001b[0;34m)\u001b[0m\u001b[0;34m:\u001b[0m\u001b[0;34m\u001b[0m\u001b[0;34m\u001b[0m\u001b[0m\n\u001b[1;32m   2802\u001b[0m                 \u001b[0mindexer\u001b[0m \u001b[0;34m=\u001b[0m \u001b[0;34m[\u001b[0m\u001b[0mindexer\u001b[0m\u001b[0;34m]\u001b[0m\u001b[0;34m\u001b[0m\u001b[0;34m\u001b[0m\u001b[0m\n",
      "\u001b[0;32m/opt/tljh/user/lib/python3.7/site-packages/pandas/core/indexes/base.py\u001b[0m in \u001b[0;36mget_loc\u001b[0;34m(self, key, method, tolerance)\u001b[0m\n\u001b[1;32m   2646\u001b[0m                 \u001b[0;32mreturn\u001b[0m \u001b[0mself\u001b[0m\u001b[0;34m.\u001b[0m\u001b[0m_engine\u001b[0m\u001b[0;34m.\u001b[0m\u001b[0mget_loc\u001b[0m\u001b[0;34m(\u001b[0m\u001b[0mkey\u001b[0m\u001b[0;34m)\u001b[0m\u001b[0;34m\u001b[0m\u001b[0;34m\u001b[0m\u001b[0m\n\u001b[1;32m   2647\u001b[0m             \u001b[0;32mexcept\u001b[0m \u001b[0mKeyError\u001b[0m\u001b[0;34m:\u001b[0m\u001b[0;34m\u001b[0m\u001b[0;34m\u001b[0m\u001b[0m\n\u001b[0;32m-> 2648\u001b[0;31m                 \u001b[0;32mreturn\u001b[0m \u001b[0mself\u001b[0m\u001b[0;34m.\u001b[0m\u001b[0m_engine\u001b[0m\u001b[0;34m.\u001b[0m\u001b[0mget_loc\u001b[0m\u001b[0;34m(\u001b[0m\u001b[0mself\u001b[0m\u001b[0;34m.\u001b[0m\u001b[0m_maybe_cast_indexer\u001b[0m\u001b[0;34m(\u001b[0m\u001b[0mkey\u001b[0m\u001b[0;34m)\u001b[0m\u001b[0;34m)\u001b[0m\u001b[0;34m\u001b[0m\u001b[0;34m\u001b[0m\u001b[0m\n\u001b[0m\u001b[1;32m   2649\u001b[0m         \u001b[0mindexer\u001b[0m \u001b[0;34m=\u001b[0m \u001b[0mself\u001b[0m\u001b[0;34m.\u001b[0m\u001b[0mget_indexer\u001b[0m\u001b[0;34m(\u001b[0m\u001b[0;34m[\u001b[0m\u001b[0mkey\u001b[0m\u001b[0;34m]\u001b[0m\u001b[0;34m,\u001b[0m \u001b[0mmethod\u001b[0m\u001b[0;34m=\u001b[0m\u001b[0mmethod\u001b[0m\u001b[0;34m,\u001b[0m \u001b[0mtolerance\u001b[0m\u001b[0;34m=\u001b[0m\u001b[0mtolerance\u001b[0m\u001b[0;34m)\u001b[0m\u001b[0;34m\u001b[0m\u001b[0;34m\u001b[0m\u001b[0m\n\u001b[1;32m   2650\u001b[0m         \u001b[0;32mif\u001b[0m \u001b[0mindexer\u001b[0m\u001b[0;34m.\u001b[0m\u001b[0mndim\u001b[0m \u001b[0;34m>\u001b[0m \u001b[0;36m1\u001b[0m \u001b[0;32mor\u001b[0m \u001b[0mindexer\u001b[0m\u001b[0;34m.\u001b[0m\u001b[0msize\u001b[0m \u001b[0;34m>\u001b[0m \u001b[0;36m1\u001b[0m\u001b[0;34m:\u001b[0m\u001b[0;34m\u001b[0m\u001b[0;34m\u001b[0m\u001b[0m\n",
      "\u001b[0;32mpandas/_libs/index.pyx\u001b[0m in \u001b[0;36mpandas._libs.index.IndexEngine.get_loc\u001b[0;34m()\u001b[0m\n",
      "\u001b[0;32mpandas/_libs/index.pyx\u001b[0m in \u001b[0;36mpandas._libs.index.IndexEngine.get_loc\u001b[0;34m()\u001b[0m\n",
      "\u001b[0;32mpandas/_libs/hashtable_class_helper.pxi\u001b[0m in \u001b[0;36mpandas._libs.hashtable.PyObjectHashTable.get_item\u001b[0;34m()\u001b[0m\n",
      "\u001b[0;32mpandas/_libs/hashtable_class_helper.pxi\u001b[0m in \u001b[0;36mpandas._libs.hashtable.PyObjectHashTable.get_item\u001b[0;34m()\u001b[0m\n",
      "\u001b[0;31mKeyError\u001b[0m: 'Map'"
     ]
    }
   ],
   "source": [
    "with open(OUTPUT_GENES) as f:\n",
    "    genes = [gene[:-1] for gene in f]\n",
    "    \n",
    "metrics = dict()\n",
    "\n",
    "for gene in genes:\n",
    "    print(gene)\n",
    "    # model\n",
    "    model = Sequential()\n",
    "    model.add(Conv1D(filters=64, kernel_size=3, activation='relu', input_shape=(train_input.shape[1], 1)))\n",
    "    model.add(Conv1D(filters=64, kernel_size=3, activation='relu'))\n",
    "    model.add(Dropout(0.5))\n",
    "    model.add(MaxPooling1D(pool_size=2))\n",
    "    model.add(Flatten())\n",
    "    model.add(Dense(100, activation='relu'))\n",
    "    model.add(Dense(1, activation='sigmoid'))\n",
    "\n",
    "    model.compile(loss='mean_squared_error', optimizer='adam', metrics=['mse', 'mae'])\n",
    "\n",
    "    # training\n",
    "    early_stop = EarlyStopping(monitor='val_loss', patience=5)\n",
    "    model.fit(x=np.expand_dims(train_input_pca_tf, axis=2), y=train_output[gene], epochs=50, callbacks=[early_stop], validation_split=.2)\n",
    "\n",
    "    # evaluation\n",
    "    metrics[gene] = (model.evaluate(x=np.expand_dims(test_input_pca_tf, axis=2), y=test_output[gene])[0])\n",
    "\n"
   ]
  },
  {
   "cell_type": "code",
   "execution_count": 19,
   "metadata": {},
   "outputs": [
    {
     "data": {
      "text/plain": [
       "{'App': 1.0460105057207233e-06,\n",
       " 'Apoe': 8.929495186361592e-06,\n",
       " 'Gusb': 3.871291941410777e-09,\n",
       " 'Lamp5': 6.345943838978644e-07,\n",
       " 'Mbp': 5.839914346504421e-07,\n",
       " 'Pvalb': 2.092350798229969e-07,\n",
       " 'Rorb': 1.4227604709813485e-08,\n",
       " 'S100b': 1.822111108670648e-08,\n",
       " 'Slc30a3': 2.0113461473288134e-08,\n",
       " 'Snca': 1.8244598839261085e-06}"
      ]
     },
     "execution_count": 19,
     "metadata": {},
     "output_type": "execute_result"
    }
   ],
   "source": [
    "metrics # MSE"
   ]
  },
  {
   "cell_type": "code",
   "execution_count": 35,
   "metadata": {},
   "outputs": [],
   "source": [
    "# write mse to csv\n",
    "with open('1d_cnn_mse.csv', 'w', newline='') as f:\n",
    "    writer = csv.writer(f)\n",
    "    writer.writerows(metrics.items())"
   ]
  }
 ],
 "metadata": {
  "kernelspec": {
   "display_name": "Python 3",
   "language": "python",
   "name": "python3"
  },
  "language_info": {
   "codemirror_mode": {
    "name": "ipython",
    "version": 3
   },
   "file_extension": ".py",
   "mimetype": "text/x-python",
   "name": "python",
   "nbconvert_exporter": "python",
   "pygments_lexer": "ipython3",
   "version": "3.7.3"
  }
 },
 "nbformat": 4,
 "nbformat_minor": 4
}
