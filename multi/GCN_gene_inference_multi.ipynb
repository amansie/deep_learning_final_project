{
 "cells": [
  {
   "cell_type": "code",
   "execution_count": 1,
   "metadata": {},
   "outputs": [],
   "source": [
    "import csv\n",
    "import numpy as np\n",
    "import pandas as pd\n",
    "import matplotlib.pyplot as plt\n",
    "import torch\n",
    "from multi_gene_inference import multi_data_loader, MultiGCNInferenceNetwork, multi_train, validate"
   ]
  },
  {
   "cell_type": "code",
   "execution_count": 2,
   "metadata": {},
   "outputs": [],
   "source": [
    "HOME = '/home/jupyter-dylan/'    # Dylan\n",
    "devices = torch.device('cuda')"
   ]
  },
  {
   "cell_type": "markdown",
   "metadata": {},
   "source": [
    "## Load data"
   ]
  },
  {
   "cell_type": "code",
   "execution_count": 3,
   "metadata": {},
   "outputs": [],
   "source": [
    "# load gene names\n",
    "#gene_name = np.loadtxt('gene_name.txt', dtype=str)     # Jiayu\n",
    "gene_name = np.concatenate(                            # Dylan\n",
    "    [np.loadtxt('{}gene labels/input_genes.txt'.format(HOME), dtype=str),\n",
    "    np.loadtxt('{}gene labels/output_genes-1.txt'.format(HOME), dtype=str)]\n",
    ")\n",
    "\n",
    "# gene_edge = np.loadtxt('genemania_edge.txt', dtype=str)   # Jiayu\n",
    "with open('../genemania_edges.csv', newline='') as f:         # Dylan\n",
    "    reader = csv.reader(f)\n",
    "    gene_edge = list(reader)"
   ]
  },
  {
   "cell_type": "code",
   "execution_count": 4,
   "metadata": {},
   "outputs": [],
   "source": [
    "# create mapping table from genes to nodes number\n",
    "node_map = {}\n",
    "for i, j in enumerate(gene_name):\n",
    "    node_map.update({j:i})"
   ]
  },
  {
   "cell_type": "code",
   "execution_count": 5,
   "metadata": {},
   "outputs": [],
   "source": [
    "gene_set = set([\"App\", \"Apoe\", \"Gusb\",\"Lamp5\",\"Mbp\",\"Pvalb\",\"S100b\",\"Slc30a3\",\"Snca\",\"Mapt\"])"
   ]
  },
  {
   "cell_type": "code",
   "execution_count": 6,
   "metadata": {},
   "outputs": [],
   "source": [
    "# load training data\n",
    "#train_loader = data_loader('input_train_cat.csv', gene='gusb', node_map=node_map,    # Jiayu\n",
    "#                           edge_list=edge_list, multiplier=1e-5)\n",
    "train_loader = multi_data_loader('{}new_data/input_train.csv'.format(HOME), genes=gene_set, node_map=node_map,    # Dylan\n",
    "                           gene_edge=gene_edge, cat='{}new_data/output_train-1.csv'.format(HOME))\n",
    "\n",
    "# load validation data\n",
    "#validate_loader = data_loader('input_test_cat.csv', gene='gusb', node_map=node_map,  # Jiayu\n",
    "#                              edge_list=edge_list, multiplier=1e-5)\n",
    "validate_loader = multi_data_loader('{}new_data/input_test.csv'.format(HOME), genes=gene_set, node_map=node_map,  # Dylan\n",
    "                              gene_edge=gene_edge, cat='{}new_data/output_test-1.csv'.format(HOME))"
   ]
  },
  {
   "cell_type": "code",
   "execution_count": 7,
   "metadata": {},
   "outputs": [
    {
     "name": "stdout",
     "output_type": "stream",
     "text": [
      "185420\n",
      "46360\n"
     ]
    }
   ],
   "source": [
    "print(len(train_loader))\n",
    "print(len(validate_loader))"
   ]
  },
  {
   "cell_type": "code",
   "execution_count": 8,
   "metadata": {},
   "outputs": [
    {
     "name": "stdout",
     "output_type": "stream",
     "text": [
      "torch.Size([1431, 1])\n",
      "torch.Size([1, 1])\n",
      "torch.Size([2, 488342])\n"
     ]
    }
   ],
   "source": [
    "print(train_loader[0].x.size())\n",
    "print(train_loader[0].y.size())\n",
    "print(train_loader[0].edge_index.size())"
   ]
  },
  {
   "cell_type": "markdown",
   "metadata": {},
   "source": [
    "## Train GCN"
   ]
  },
  {
   "cell_type": "code",
   "execution_count": null,
   "metadata": {
    "scrolled": true
   },
   "outputs": [
    {
     "name": "stderr",
     "output_type": "stream",
     "text": [
      "100%|██████████| 2897/2897 [35:47<00:00,  1.35it/s, loss=0.119]\n",
      "  9%|▉         | 275/2897 [03:24<32:22,  1.35it/s, loss=0.101]"
     ]
    }
   ],
   "source": [
    "model = MultiGCNInferenceNetwork().to(torch.device('cuda'))\n",
    "train_loss_lis = []\n",
    "validate_loss_lis = []\n",
    "train_batch_size = 64\n",
    "validate_batch_size = 64\n",
    "epochs = 100\n",
    "\n",
    "for i in range(epochs): \n",
    "    \n",
    "    train_loss = multi_train(model, train_loader, train_batch_size)\n",
    "    train_loss_lis.append(train_loss)\n",
    "    \n",
    "    val_loss = validate(model, validate_loader, validate_batch_size)\n",
    "    validate_loss_lis.append(val_loss)\n",
    "    \n",
    "    # print ('epochs: %d || train_losses: %f || train_mse: %f || val_loss: %f || val_mse: %f' \\\n",
    "          # %(i, train_loss, train_mse, val_loss, val_mse))\n",
    "    # print ('epochs: %d || train_losses: %f' %(i, train_loss))"
   ]
  },
  {
   "cell_type": "code",
   "execution_count": null,
   "metadata": {},
   "outputs": [],
   "source": [
    "from gene_inference import MultiGCNInferenceNetwork"
   ]
  },
  {
   "cell_type": "code",
   "execution_count": null,
   "metadata": {},
   "outputs": [],
   "source": [
    "# ep = [i for i in range(20)]\n",
    "plt.plot(range(len(validate_loss_lis)), validate_loss_lis)\n",
    "plt.plot(range(len(train_loss_lis)), train_loss_lis)"
   ]
  }
 ],
 "metadata": {
  "kernelspec": {
   "display_name": "Python 3",
   "language": "python",
   "name": "python3"
  },
  "language_info": {
   "codemirror_mode": {
    "name": "ipython",
    "version": 3
   },
   "file_extension": ".py",
   "mimetype": "text/x-python",
   "name": "python",
   "nbconvert_exporter": "python",
   "pygments_lexer": "ipython3",
   "version": "3.7.3"
  }
 },
 "nbformat": 4,
 "nbformat_minor": 4
}
