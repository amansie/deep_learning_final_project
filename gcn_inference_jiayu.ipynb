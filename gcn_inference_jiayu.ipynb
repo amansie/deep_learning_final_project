{
 "cells": [
  {
   "cell_type": "code",
   "execution_count": 1,
   "metadata": {},
   "outputs": [],
   "source": [
    "import gene_inference_jiayu as utils\n",
    "import numpy as np\n",
    "import matplotlib.pyplot as plt\n",
    "import torch"
   ]
  },
  {
   "cell_type": "markdown",
   "metadata": {},
   "source": [
    "## Load Data"
   ]
  },
  {
   "cell_type": "code",
   "execution_count": 2,
   "metadata": {},
   "outputs": [
    {
     "name": "stdout",
     "output_type": "stream",
     "text": [
      "92 edges not recoginze; the size of edge list is [27746, 2]\n"
     ]
    }
   ],
   "source": [
    "# load gene name and connections\n",
    "gene_name = np.loadtxt('gene_name.txt', dtype=str)\n",
    "gene_edge = np.loadtxt('gene_edge.txt', dtype=str)\n",
    "gene_edge_new = np.loadtxt('full_network.txt', dtype=str)\n",
    "\n",
    "# create name-index mapping\n",
    "node_map = utils.node_mapping(gene_name)\n",
    "\n",
    "# create edge list\n",
    "edge_list = utils.filterEdgeListByGene('Gusb', node_map, gene_edge_new, False)"
   ]
  },
  {
   "cell_type": "code",
   "execution_count": 3,
   "metadata": {},
   "outputs": [
    {
     "name": "stdout",
     "output_type": "stream",
     "text": [
      "train set contains 18542 graphs, validate set contains 4636 graphs\n"
     ]
    }
   ],
   "source": [
    "# define target downstream gene\n",
    "target_name = [\"Apoe\",\"App\",\"Gusb\",\"Lamp5\",\"Mbp\",\"Pvalb\",\"S100b\",\"Slc30a3\",\"Snca\"]\n",
    "\n",
    "# define training and validating file\n",
    "train_file = 'input_train_cat.csv'\n",
    "validate_file = 'input_test_cat.csv'\n",
    "\n",
    "# create data_loader\n",
    "train_loader, validate_loader = utils.data_loader(train_file, validate_file, node_map, edge_list, target_name)"
   ]
  },
  {
   "cell_type": "markdown",
   "metadata": {},
   "source": [
    "## Training GCN"
   ]
  },
  {
   "cell_type": "code",
   "execution_count": 4,
   "metadata": {},
   "outputs": [],
   "source": [
    "# define mutltiTaskGCN \n",
    "model = utils.MultiGCNInferenceNetwork2().to(torch.device('cuda'))"
   ]
  },
  {
   "cell_type": "code",
   "execution_count": 5,
   "metadata": {},
   "outputs": [
    {
     "name": "stderr",
     "output_type": "stream",
     "text": [
      "100%|██████████| 1158/1158 [00:18<00:00, 61.58it/s, loss=0.111]\n",
      "100%|██████████| 1158/1158 [00:18<00:00, 62.40it/s, loss=0.0906]\n",
      "100%|██████████| 1158/1158 [00:18<00:00, 63.52it/s, loss=0.0712]\n",
      "100%|██████████| 1158/1158 [00:18<00:00, 63.11it/s, loss=0.0529]\n",
      "100%|██████████| 1158/1158 [00:19<00:00, 60.71it/s, loss=0.0363]\n",
      "100%|██████████| 1158/1158 [00:18<00:00, 62.13it/s, loss=0.0224]\n",
      "100%|██████████| 1158/1158 [00:18<00:00, 63.50it/s, loss=0.0117]\n",
      "100%|██████████| 1158/1158 [00:18<00:00, 61.22it/s, loss=0.00514]\n",
      "100%|██████████| 1158/1158 [00:18<00:00, 62.24it/s, loss=0.00132]\n",
      "100%|██████████| 1158/1158 [00:18<00:00, 63.07it/s, loss=0.000167]\n",
      "100%|██████████| 1158/1158 [00:19<00:00, 60.24it/s, loss=0.000104]\n",
      "100%|██████████| 1158/1158 [00:18<00:00, 62.10it/s, loss=7.32e-5]\n",
      "100%|██████████| 1158/1158 [00:18<00:00, 62.68it/s, loss=4.97e-5]\n",
      "100%|██████████| 1158/1158 [00:18<00:00, 62.60it/s, loss=3.28e-5]\n",
      "100%|██████████| 1158/1158 [00:18<00:00, 62.80it/s, loss=2.08e-5]\n",
      "100%|██████████| 1158/1158 [00:18<00:00, 62.97it/s, loss=1.28e-5]\n",
      "100%|██████████| 1158/1158 [00:18<00:00, 63.07it/s, loss=7.53e-6]\n",
      "100%|██████████| 1158/1158 [00:18<00:00, 61.76it/s, loss=4.43e-6]\n",
      "100%|██████████| 1158/1158 [00:18<00:00, 63.67it/s, loss=2.68e-6]\n",
      "100%|██████████| 1158/1158 [00:18<00:00, 63.79it/s, loss=1.82e-6]\n",
      "100%|██████████| 1158/1158 [00:18<00:00, 61.51it/s, loss=1.49e-6]\n",
      "  1%|          | 6/1158 [00:00<00:19, 58.24it/s, loss=1.22e-6]"
     ]
    },
    {
     "name": "stdout",
     "output_type": "stream",
     "text": [
      "EarlyStopping counter: 1 out of 3\n"
     ]
    },
    {
     "name": "stderr",
     "output_type": "stream",
     "text": [
      "100%|██████████| 1158/1158 [00:18<00:00, 62.75it/s, loss=1.39e-6]\n",
      "  1%|          | 6/1158 [00:00<00:19, 58.38it/s, loss=6.23e-7]"
     ]
    },
    {
     "name": "stdout",
     "output_type": "stream",
     "text": [
      "EarlyStopping counter: 2 out of 3\n"
     ]
    },
    {
     "name": "stderr",
     "output_type": "stream",
     "text": [
      "100%|██████████| 1158/1158 [00:18<00:00, 61.73it/s, loss=1.38e-6]\n",
      "100%|██████████| 1158/1158 [00:19<00:00, 60.67it/s, loss=1.37e-6]\n",
      "  1%|          | 6/1158 [00:00<00:19, 59.19it/s, loss=1.21e-6]"
     ]
    },
    {
     "name": "stdout",
     "output_type": "stream",
     "text": [
      "EarlyStopping counter: 1 out of 3\n"
     ]
    },
    {
     "name": "stderr",
     "output_type": "stream",
     "text": [
      "100%|██████████| 1158/1158 [00:18<00:00, 62.79it/s, loss=1.37e-6]\n",
      "  1%|          | 6/1158 [00:00<00:19, 57.60it/s, loss=1.2e-6] "
     ]
    },
    {
     "name": "stdout",
     "output_type": "stream",
     "text": [
      "EarlyStopping counter: 2 out of 3\n"
     ]
    },
    {
     "name": "stderr",
     "output_type": "stream",
     "text": [
      "100%|██████████| 1158/1158 [00:18<00:00, 60.95it/s, loss=1.37e-6]\n",
      "100%|██████████| 1158/1158 [00:18<00:00, 60.99it/s, loss=1.37e-6]\n",
      "  1%|          | 6/1158 [00:00<00:22, 51.27it/s, loss=5.64e-7]"
     ]
    },
    {
     "name": "stdout",
     "output_type": "stream",
     "text": [
      "EarlyStopping counter: 1 out of 3\n"
     ]
    },
    {
     "name": "stderr",
     "output_type": "stream",
     "text": [
      "100%|██████████| 1158/1158 [00:19<00:00, 60.23it/s, loss=1.37e-6]\n",
      "  1%|          | 6/1158 [00:00<00:19, 58.19it/s, loss=1.38e-6]"
     ]
    },
    {
     "name": "stdout",
     "output_type": "stream",
     "text": [
      "EarlyStopping counter: 2 out of 3\n"
     ]
    },
    {
     "name": "stderr",
     "output_type": "stream",
     "text": [
      "100%|██████████| 1158/1158 [00:18<00:00, 62.37it/s, loss=1.37e-6]\n"
     ]
    },
    {
     "name": "stdout",
     "output_type": "stream",
     "text": [
      "EarlyStopping counter: 3 out of 3\n",
      "Early stopping\n"
     ]
    }
   ],
   "source": [
    "train_loss, validate_loss, validate_loss_ind = utils.multi_train(model, train_loader, validate_loader)"
   ]
  },
  {
   "cell_type": "code",
   "execution_count": 6,
   "metadata": {},
   "outputs": [
    {
     "data": {
      "text/plain": [
       "array([8.66251890e-06, 4.52632086e-07, 2.17038279e-08, 4.79059707e-07,\n",
       "       6.76802817e-07, 3.00487210e-07, 8.57186512e-08, 5.09482976e-08,\n",
       "       1.23004414e-06])"
      ]
     },
     "execution_count": 6,
     "metadata": {},
     "output_type": "execute_result"
    }
   ],
   "source": [
    "validate_loss_ind[-1]/len(validate_loader)"
   ]
  },
  {
   "cell_type": "code",
   "execution_count": 8,
   "metadata": {},
   "outputs": [
    {
     "data": {
      "image/png": "[encoded data removed]",
      "text/plain": [
       "<Figure size 720x576 with 1 Axes>"
      ]
     },
     "metadata": {
      "needs_background": "light"
     },
     "output_type": "display_data"
    }
   ],
   "source": [
    "ep = [i for i in range(29)]\n",
    "plt.figure(figsize=(10 ,8))\n",
    "plt.plot(ep, validate_loss)\n",
    "plt.xlabel('epoch')\n",
    "plt.ylabel('validation_mse')\n",
    "plt.show()"
   ]
  },
  {
   "cell_type": "code",
   "execution_count": null,
   "metadata": {},
   "outputs": [],
   "source": []
  }
 ],
 "metadata": {
  "kernelspec": {
   "display_name": "Python 3",
   "language": "python",
   "name": "python3"
  },
  "language_info": {
   "codemirror_mode": {
    "name": "ipython",
    "version": 3
   },
   "file_extension": ".py",
   "mimetype": "text/x-python",
   "name": "python",
   "nbconvert_exporter": "python",
   "pygments_lexer": "ipython3",
   "version": "3.7.3"
  }
 },
 "nbformat": 4,
 "nbformat_minor": 4
}
