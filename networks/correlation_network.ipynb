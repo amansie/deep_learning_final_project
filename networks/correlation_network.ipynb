{
 "cells": [
  {
   "cell_type": "code",
   "execution_count": 1,
   "metadata": {},
   "outputs": [],
   "source": [
    "import numpy as np\n",
    "import pandas as pd\n",
    "import csv"
   ]
  },
  {
   "cell_type": "code",
   "execution_count": 2,
   "metadata": {},
   "outputs": [],
   "source": [
    "# load data\n",
    "data = pd.concat([pd.read_csv('new_data/input_train.csv', index_col=0), pd.read_csv('new_data/input_test.csv', index_col=0)])\n",
    "out_data = pd.concat([pd.read_csv('new_data/output_train-1.csv', index_col=0, header=0), pd.read_csv('new_data/output_test-1.csv', index_col=0, header=0)])\n",
    "data = pd.concat([data, out_data], axis=1)"
   ]
  },
  {
   "cell_type": "code",
   "execution_count": 3,
   "metadata": {},
   "outputs": [],
   "source": [
    "# load gene names\n",
    "with open('gene labels/input_genes.txt') as f:\n",
    "    genes = [gene.strip() for gene in f]\n",
    "    \n",
    "with open('gene labels/output_genes-1.txt') as f:\n",
    "    out_genes = [gene.strip() for gene in f]"
   ]
  },
  {
   "cell_type": "code",
   "execution_count": 6,
   "metadata": {},
   "outputs": [],
   "source": [
    "# calculate Pearson's correlation\n",
    "corr = dict()\n",
    "for gene in out_genes:\n",
    "    corr[gene] = data[genes + [gene]].corr()\n",
    "    \n",
    "    # Zero out self-correlations\n",
    "    np.fill_diagonal(corr[gene].values, 0)"
   ]
  },
  {
   "cell_type": "code",
   "execution_count": 7,
   "metadata": {},
   "outputs": [],
   "source": [
    "# get 50 highest correlations for each gene\n",
    "network = dict()\n",
    "for out in out_genes:\n",
    "    network[out] = dict()\n",
    "    for gene in genes + [out]:\n",
    "        network[out][gene] = corr[out][gene].nlargest(50, keep='all')"
   ]
  },
  {
   "cell_type": "code",
   "execution_count": 8,
   "metadata": {},
   "outputs": [],
   "source": [
    "# filter out genes with <= 0.0 correlation\n",
    "for out in out_genes:\n",
    "    network[out] = {gene: list(interact.index[interact > 0.0]) for gene, interact in network[out].items()}"
   ]
  },
  {
   "cell_type": "code",
   "execution_count": 10,
   "metadata": {},
   "outputs": [],
   "source": [
    "# keep only reciprocal correlations\n",
    "filtered = dict()\n",
    "for out in out_genes:\n",
    "    filtered[out] = dict()\n",
    "    for gene, interacts in network[out].items():\n",
    "        filtered[out][gene] = list()\n",
    "        for interact in interacts:\n",
    "            if gene in network[out][interact]:\n",
    "                filtered[out][gene].append(interact)"
   ]
  },
  {
   "cell_type": "code",
   "execution_count": 12,
   "metadata": {},
   "outputs": [],
   "source": [
    "# convert adjacency list to edge list\n",
    "edges = dict()\n",
    "for out in out_genes:\n",
    "    edges[out] = list()\n",
    "    for gene, interacts in filtered[out].items():\n",
    "        edges[out] += [(gene, interact) for interact in interacts if gene != interact]"
   ]
  },
  {
   "cell_type": "code",
   "execution_count": 16,
   "metadata": {},
   "outputs": [],
   "source": [
    "for out in out_genes:\n",
    "    with open('{}_network.csv'.format(out), 'w', newline='') as f:\n",
    "        writer = csv.writer(f)\n",
    "        writer.writerows(edges)"
   ]
  }
 ],
 "metadata": {
  "kernelspec": {
   "display_name": "Python 3",
   "language": "python",
   "name": "python3"
  },
  "language_info": {
   "codemirror_mode": {
    "name": "ipython",
    "version": 3
   },
   "file_extension": ".py",
   "mimetype": "text/x-python",
   "name": "python",
   "nbconvert_exporter": "python",
   "pygments_lexer": "ipython3",
   "version": "3.7.3"
  }
 },
 "nbformat": 4,
 "nbformat_minor": 4
}
