{
 "cells": [
  {
   "cell_type": "code",
   "execution_count": 1,
   "metadata": {},
   "outputs": [],
   "source": [
    "import numpy as np\n",
    "import pandas as pd\n",
    "import csv"
   ]
  },
  {
   "cell_type": "code",
   "execution_count": 2,
   "metadata": {},
   "outputs": [],
   "source": [
    "# load data\n",
    "HOME = '../../'\n",
    "data = pd.concat([pd.read_csv(\"{}new_data/input_train.csv\".format(HOME), index_col=0), pd.read_csv('{}new_data/input_test.csv'.format(HOME), index_col=0)])\n",
    "out_data = pd.concat([pd.read_csv('{}new_data/output_train-1.csv'.format(HOME), index_col=0, header=0), pd.read_csv('{}new_data/output_test-1.csv'.format(HOME), index_col=0, header=0)])\n",
    "data = pd.concat([data, out_data], axis=1)"
   ]
  },
  {
   "cell_type": "code",
   "execution_count": 3,
   "metadata": {},
   "outputs": [],
   "source": [
    "# load gene names\n",
    "with open('{}gene labels/input_genes.txt'.format(HOME)) as f:\n",
    "    genes = [gene.strip() for gene in f]\n",
    "    \n",
    "with open('{}gene labels/output_genes-1.txt'.format(HOME)) as f:\n",
    "    out_genes = [gene.strip() for gene in f]"
   ]
  },
  {
   "cell_type": "code",
   "execution_count": 4,
   "metadata": {},
   "outputs": [
    {
     "ename": "NameError",
     "evalue": "name 'gene' is not defined",
     "output_type": "error",
     "traceback": [
      "\u001b[0;31m---------------------------------------------------------------------------\u001b[0m",
      "\u001b[0;31mNameError\u001b[0m                                 Traceback (most recent call last)",
      "\u001b[0;32m<ipython-input-4-dabb8b949ffb>\u001b[0m in \u001b[0;36m<module>\u001b[0;34m\u001b[0m\n\u001b[1;32m      3\u001b[0m \u001b[0;34m\u001b[0m\u001b[0m\n\u001b[1;32m      4\u001b[0m \u001b[0;31m# Zero out self-correlations\u001b[0m\u001b[0;34m\u001b[0m\u001b[0;34m\u001b[0m\u001b[0;34m\u001b[0m\u001b[0m\n\u001b[0;32m----> 5\u001b[0;31m \u001b[0mnp\u001b[0m\u001b[0;34m.\u001b[0m\u001b[0mfill_diagonal\u001b[0m\u001b[0;34m(\u001b[0m\u001b[0mcorr\u001b[0m\u001b[0;34m[\u001b[0m\u001b[0mgene\u001b[0m\u001b[0;34m]\u001b[0m\u001b[0;34m.\u001b[0m\u001b[0mvalues\u001b[0m\u001b[0;34m,\u001b[0m \u001b[0;36m0\u001b[0m\u001b[0;34m)\u001b[0m\u001b[0;34m\u001b[0m\u001b[0;34m\u001b[0m\u001b[0m\n\u001b[0m",
      "\u001b[0;31mNameError\u001b[0m: name 'gene' is not defined"
     ]
    }
   ],
   "source": [
    "# calculate Pearson's correlation\n",
    "corr = data[genes + out_genes].corr()\n",
    "\n",
    "# Zero out self-correlations\n",
    "np.fill_diagonal(corr.values, 0)"
   ]
  },
  {
   "cell_type": "code",
   "execution_count": 6,
   "metadata": {},
   "outputs": [],
   "source": [
    "# get 50 highest correlations for each gene\n",
    "network = dict()\n",
    "for gene in genes + out_genes:\n",
    "    network[gene] = corr[gene].nlargest(50, keep='all')"
   ]
  },
  {
   "cell_type": "code",
   "execution_count": 7,
   "metadata": {},
   "outputs": [],
   "source": [
    "# filter out genes with <= 0.0 correlation\n",
    "network = {gene: list(interact.index[interact > 0.0]) for gene, interact in network.items()}"
   ]
  },
  {
   "cell_type": "code",
   "execution_count": 8,
   "metadata": {},
   "outputs": [],
   "source": [
    "# keep only reciprocal correlations\n",
    "filtered = dict()\n",
    "for gene, interacts in network.items():\n",
    "    filtered[gene] = list()\n",
    "    for interact in interacts:\n",
    "        if gene in network[interact]:\n",
    "            filtered[gene].append(interact)"
   ]
  },
  {
   "cell_type": "code",
   "execution_count": 9,
   "metadata": {},
   "outputs": [],
   "source": [
    "# convert adjacency list to edge list\n",
    "edges = list()\n",
    "for gene, interacts in filtered.items():\n",
    "    edges += [(gene, interact) for interact in interacts if gene != interact]"
   ]
  },
  {
   "cell_type": "code",
   "execution_count": 10,
   "metadata": {},
   "outputs": [],
   "source": [
    "with open('../networks/full_network.csv', 'w', newline='') as f:\n",
    "    writer = csv.writer(f)\n",
    "    writer.writerows(edges)"
   ]
  }
 ],
 "metadata": {
  "kernelspec": {
   "display_name": "Python 3",
   "language": "python",
   "name": "python3"
  },
  "language_info": {
   "codemirror_mode": {
    "name": "ipython",
    "version": 3
   },
   "file_extension": ".py",
   "mimetype": "text/x-python",
   "name": "python",
   "nbconvert_exporter": "python",
   "pygments_lexer": "ipython3",
   "version": "3.7.3"
  }
 },
 "nbformat": 4,
 "nbformat_minor": 4
}
