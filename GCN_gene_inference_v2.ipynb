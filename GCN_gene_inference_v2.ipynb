{
 "cells": [
  {
   "cell_type": "code",
   "execution_count": 1,
   "metadata": {},
   "outputs": [],
   "source": [
    "import numpy as np\n",
    "import matplotlib.pyplot as plt\n",
    "import torch\n",
    "import torch.nn.functional as F\n",
    "import csv\n",
    "import copy\n",
    "from tqdm import tqdm\n",
    "from time import sleep\n",
    "from torch import nn\n",
    "from torch_geometric.data import Batch\n",
    "from torch_geometric.data import Data\n",
    "from torch_geometric.nn import GCNConv, global_mean_pool\n",
    "\n",
    "from gene_inference import data_loader, GCNInferenceNetwork, "
   ]
  },
  {
   "cell_type": "code",
   "execution_count": 2,
   "metadata": {},
   "outputs": [],
   "source": [
    "devices = torch.device('cuda')"
   ]
  },
  {
   "cell_type": "markdown",
   "metadata": {},
   "source": [
    "## Load data"
   ]
  },
  {
   "cell_type": "code",
   "execution_count": 3,
   "metadata": {},
   "outputs": [],
   "source": [
    "gene_name = np.loadtxt('gene_name.txt', dtype=str)\n",
    "gene_edge = np.loadtxt('gene_edge.txt', dtype=str)"
   ]
  },
  {
   "cell_type": "code",
   "execution_count": 4,
   "metadata": {},
   "outputs": [],
   "source": [
    "# create mapping table from genes to nodes number\n",
    "node_map = {}\n",
    "for i, j in enumerate(gene_name): \n",
    "    node_map.update({j:i})"
   ]
  },
  {
   "cell_type": "code",
   "execution_count": 5,
   "metadata": {},
   "outputs": [],
   "source": [
    "gene_set = set([\"App\", \"Apoe\", \"Gusb\",\"Lamp5\",\"Mbp\",\"Pvalb\",\"S100b\",\"Slc30a3\",\"Snca\",\"Mapt\"])"
   ]
  },
  {
   "cell_type": "code",
   "execution_count": null,
   "metadata": {},
   "outputs": [],
   "source": [
    "edge_list = filterEdgeListByGene('Gusb', gene_edge, gene_set)\n",
    "edge_list = torch.tensor(np.array(edge_list).T, dtype=torch.long)\n",
    "edge_list.size()"
   ]
  },
  {
   "cell_type": "code",
   "execution_count": 7,
   "metadata": {},
   "outputs": [],
   "source": [
    "# load training data\n",
    "train_loader = data_loader('input_train_cat.csv', gene='gusb', node_map=node_map,\n",
    "                           edge_list=edge_list, multiplier=1e-5)\n",
    "\n",
    "# load validation data\n",
    "validate_loader = data_loader('input_test_cat.csv', gene='gusb', node_map=node_map,\n",
    "                              edge_list=edge_list, multiplier=1e-5)"
   ]
  },
  {
   "cell_type": "code",
   "execution_count": 9,
   "metadata": {},
   "outputs": [
    {
     "name": "stdout",
     "output_type": "stream",
     "text": [
      "18542\n",
      "4636\n"
     ]
    }
   ],
   "source": [
    "print(len(train_loader))\n",
    "print(len(validate_loader))"
   ]
  },
  {
   "cell_type": "code",
   "execution_count": 10,
   "metadata": {},
   "outputs": [
    {
     "name": "stdout",
     "output_type": "stream",
     "text": [
      "torch.Size([1431, 1])\n",
      "torch.Size([1, 1])\n",
      "torch.Size([2, 488146])\n"
     ]
    }
   ],
   "source": [
    "print(train_loader[0].x.size())\n",
    "print(train_loader[0].y.size())\n",
    "print(train_loader[0].edge_index.size())"
   ]
  },
  {
   "cell_type": "markdown",
   "metadata": {},
   "source": [
    "## Train GCN"
   ]
  },
  {
   "cell_type": "code",
   "execution_count": 12,
   "metadata": {},
   "outputs": [
    {
     "name": "stderr",
     "output_type": "stream",
     "text": [
      "100%|██████████| 579/579 [03:29<00:00,  2.76it/s, loss=38.8]\n",
      "100%|██████████| 579/579 [03:26<00:00,  2.81it/s, loss=38.5]\n",
      "100%|██████████| 579/579 [03:24<00:00,  2.83it/s, loss=38.2]\n",
      "100%|██████████| 579/579 [03:24<00:00,  2.84it/s, loss=37.9]\n",
      "100%|██████████| 579/579 [03:25<00:00,  2.82it/s, loss=37.7]\n",
      "100%|██████████| 579/579 [03:22<00:00,  2.85it/s, loss=37.4]\n",
      "100%|██████████| 579/579 [03:21<00:00,  2.88it/s, loss=37.1]\n",
      "100%|██████████| 579/579 [03:21<00:00,  2.88it/s, loss=36.9]\n",
      "100%|██████████| 579/579 [03:19<00:00,  2.90it/s, loss=36.6]\n",
      "100%|██████████| 579/579 [03:22<00:00,  2.86it/s, loss=36.3]\n",
      "100%|██████████| 579/579 [03:19<00:00,  2.90it/s, loss=36.1]\n",
      "100%|██████████| 579/579 [03:19<00:00,  2.90it/s, loss=35.8]\n",
      "100%|██████████| 579/579 [03:19<00:00,  2.90it/s, loss=35.6]\n",
      "100%|██████████| 579/579 [03:25<00:00,  2.82it/s, loss=35.3]\n",
      "100%|██████████| 579/579 [03:22<00:00,  2.85it/s, loss=35]  \n",
      "100%|██████████| 579/579 [03:23<00:00,  2.85it/s, loss=34.8]\n",
      "100%|██████████| 579/579 [03:22<00:00,  2.86it/s, loss=34.6]\n",
      "100%|██████████| 579/579 [03:21<00:00,  2.88it/s, loss=34.4]\n",
      "100%|██████████| 579/579 [03:21<00:00,  2.88it/s, loss=34.2]\n",
      "100%|██████████| 579/579 [03:21<00:00,  2.87it/s, loss=34.1]\n"
     ]
    }
   ],
   "source": [
    "model = GCNInferenceNetwork().to(torch.device('cuda'))\n",
    "train_loss_lis = []\n",
    "validate_loss_lis = []\n",
    "train_batch_size = 32\n",
    "validate_batch_size = 32\n",
    "epochs = 20\n",
    "\n",
    "for i in range(epochs): \n",
    "    \n",
    "    train_loss = train(model, train_loader, train_batch_size)\n",
    "    train_loss_lis.append(train_loss)\n",
    "    \n",
    "    val_loss = validate(model, validate_loader, validate_batch_size)\n",
    "    validate_loss_lis.append(val_loss)\n",
    "    \n",
    "    # print ('epochs: %d || train_losses: %f || train_mse: %f || val_loss: %f || val_mse: %f' \\\n",
    "          # %(i, train_loss, train_mse, val_loss, val_mse))\n",
    "    # print ('epochs: %d || train_losses: %f' %(i, train_loss))"
   ]
  },
  {
   "cell_type": "code",
   "execution_count": 13,
   "metadata": {},
   "outputs": [
    {
     "data": {
      "text/plain": [
       "[<matplotlib.lines.Line2D at 0x7f88ca4ed668>]"
      ]
     },
     "execution_count": 13,
     "metadata": {},
     "output_type": "execute_result"
    },
    {
     "data": {
      "image/png": "[encoded data removed]",
      "text/plain": [
       "<Figure size 432x288 with 1 Axes>"
      ]
     },
     "metadata": {
      "needs_background": "light"
     },
     "output_type": "display_data"
    }
   ],
   "source": [
    "ep = [i for i in range(20)]\n",
    "plt.plot(ep, validate_loss_lis)"
   ]
  }
 ],
 "metadata": {
  "kernelspec": {
   "display_name": "Python 3",
   "language": "python",
   "name": "python3"
  },
  "language_info": {
   "codemirror_mode": {
    "name": "ipython",
    "version": 3
   },
   "file_extension": ".py",
   "mimetype": "text/x-python",
   "name": "python",
   "nbconvert_exporter": "python",
   "pygments_lexer": "ipython3",
   "version": "3.7.4"
  }
 },
 "nbformat": 4,
 "nbformat_minor": 4
}
