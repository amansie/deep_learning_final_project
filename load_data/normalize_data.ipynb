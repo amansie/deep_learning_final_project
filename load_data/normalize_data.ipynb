{
 "cells": [
  {
   "cell_type": "code",
   "execution_count": 9,
   "metadata": {},
   "outputs": [],
   "source": [
    "import csv\n",
    "from pickle import dump\n",
    "import pandas as pd\n",
    "from sklearn.preprocessing import StandardScaler"
   ]
  },
  {
   "cell_type": "markdown",
   "metadata": {},
   "source": [
    "# Load data"
   ]
  },
  {
   "cell_type": "code",
   "execution_count": 2,
   "metadata": {},
   "outputs": [],
   "source": [
    "# Takes in data with labeled columns (gene names) and rows (cell names)\n",
    "# Should also work directly on a normal numpy array, with a few tweaks\n",
    "input_train = pd.read_csv('input_train.csv', header=0, index_col=0)\n",
    "output_train = pd.read_csv('output_train-1.csv', header=0, index_col=0)\n",
    "if 'Mapt' in output_train.columns:\n",
    "    output_train.drop('Mapt', axis=1)\n",
    "\n",
    "input_test = pd.read_csv('input_test.csv', header=0, index_col=0)\n",
    "output_test = pd.read_csv('output_test-1.csv', header=0, index_col=0)\n",
    "if 'Mapt' in output_test.columns:\n",
    "    output_test.drop('Mapt', axis=1)\n",
    "\n",
    "train_data = pd.concat((input_train, output_train), axis=1)\n",
    "test_data = pd.concat((input_test, output_test), axis=1)\n",
    "data = pd.concat((train_data, test_data), axis=0)"
   ]
  },
  {
   "cell_type": "code",
   "execution_count": 3,
   "metadata": {},
   "outputs": [],
   "source": [
    "del input_train, output_train, input_test, output_test"
   ]
  },
  {
   "cell_type": "markdown",
   "metadata": {},
   "source": [
    "# Scaling"
   ]
  },
  {
   "cell_type": "code",
   "execution_count": 4,
   "metadata": {},
   "outputs": [
    {
     "data": {
      "text/plain": [
       "StandardScaler(copy=True, with_mean=True, with_std=True)"
      ]
     },
     "execution_count": 4,
     "metadata": {},
     "output_type": "execute_result"
    }
   ],
   "source": [
    "# create scaler object\n",
    "scaler = StandardScaler()\n",
    "scaler.fit(data)"
   ]
  },
  {
   "cell_type": "code",
   "execution_count": 12,
   "metadata": {},
   "outputs": [],
   "source": [
    "# save scaler as .pkl alongside order of genes\n",
    "with open('scaled/scaler.pkl', 'wb') as f:\n",
    "    dump(scaler, f)\n",
    "    \n",
    "with open('scaled/scaler_gene_order.txt', 'w') as f:\n",
    "    for gene in data.columns:\n",
    "        print(gene, file=f)"
   ]
  },
  {
   "cell_type": "code",
   "execution_count": 6,
   "metadata": {},
   "outputs": [],
   "source": [
    "# 0-center and scale data to unit variance (returns numpy array)\n",
    "train_scaled = scaler.transform(train_data)\n",
    "test_scaled = scaler.transform(test_data)\n",
    "\n",
    "# convert scaled numpy array back to pandas dataframe\n",
    "train_scaled = pd.DataFrame(train_scaled, index=train_data.index, columns=train_data.columns)\n",
    "test_scaled = pd.DataFrame(test_scaled, index=test_data.index, columns=test_data.columns)"
   ]
  },
  {
   "cell_type": "code",
   "execution_count": 7,
   "metadata": {},
   "outputs": [],
   "source": [
    "# save dataframes\n",
    "train_scaled.to_csv('scaled/train_data_scaled.csv')\n",
    "test_scaled.to_csv('scaled/test_data_scaled.csv')"
   ]
  }
 ],
 "metadata": {
  "kernelspec": {
   "display_name": "Python 3",
   "language": "python",
   "name": "python3"
  },
  "language_info": {
   "codemirror_mode": {
    "name": "ipython",
    "version": 3
   },
   "file_extension": ".py",
   "mimetype": "text/x-python",
   "name": "python",
   "nbconvert_exporter": "python",
   "pygments_lexer": "ipython3",
   "version": "3.7.3"
  }
 },
 "nbformat": 4,
 "nbformat_minor": 4
}
